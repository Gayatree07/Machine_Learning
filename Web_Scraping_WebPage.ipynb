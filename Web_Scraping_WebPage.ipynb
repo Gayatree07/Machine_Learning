{
 "cells": [
  {
   "cell_type": "markdown",
   "metadata": {},
   "source": [
    "### Webpage Scraping Using Beautiful Soup"
   ]
  },
  {
   "cell_type": "code",
   "execution_count": 2,
   "metadata": {},
   "outputs": [],
   "source": [
    "# import requests as beautiful soup can't make a request onto the webpage\n",
    "import requests"
   ]
  },
  {
   "cell_type": "code",
   "execution_count": 3,
   "metadata": {},
   "outputs": [],
   "source": [
    "# import beautiful soup to perform parsing\n",
    "import bs4"
   ]
  },
  {
   "cell_type": "code",
   "execution_count": 4,
   "metadata": {},
   "outputs": [],
   "source": [
    "# make request to the webpage\n",
    "res = requests.get('https://www.python.org/~guido/')"
   ]
  },
  {
   "cell_type": "code",
   "execution_count": 5,
   "metadata": {},
   "outputs": [
    {
     "data": {
      "text/plain": [
       "requests.models.Response"
      ]
     },
     "execution_count": 5,
     "metadata": {},
     "output_type": "execute_result"
    }
   ],
   "source": [
    "# check the data type of res\n",
    "type(res) "
   ]
  },
  {
   "cell_type": "code",
   "execution_count": 7,
   "metadata": {},
   "outputs": [
    {
     "data": {
      "text/plain": [
       "'<HTML>\\n\\n<HEAD>\\n<TITLE>Guido\\'s Personal Home Page</TITLE>\\n</HEAD>\\n\\n<BODY BGCOLOR=\"#FFFFFF\" TEXT=\"#000000\">\\n\\n<H1>\\n<a href=\"pics.html\"><img border=\"0\" src=\"images/IMG_2192.jpg\"></a>\\nGuido van Rossum - Personal Home Page\\n<a href=\"pics.html\"><img border=0 width=270 height=216 src=\"images/guido-headshot-2019.jpg\"></a>\\n</H1>\\n\\n<P><A\\nHREF=\"http://www.washingtonpost.com/wp-srv/business/longterm/microsoft/stories/1998/raymond120398.htm\" \\n><i>\"Gawky and proud of it.\"</i></A>\\n\\n\\n<H3><a\\nhref=\"http://metalab.unc.edu/Dave/Dr-Fun/df200004/df20000406.jpg\" >Who\\nI Am</a></H3>\\n\\n<p>Read\\nmy <a href=\"http://neopythonic.blogspot.com/2016/04/kings-day-speech.html\">\"King\\'s\\nDay Speech\"</a> for some inspiration.\\n\\n<P>I am the author of the <A HREF=\"http://www.python.org\" >Python</A>\\nprogramming language.  See also my <A HREF=\"Resume.html\">resume</A>\\nand my <A HREF=\"Publications.html\">publications list</A>, a <A\\nHREF=\"bio.html\" >brief bio</A>, assorted <a\\nhref=\"http://legacy.python.org/doc/essays/\">writings</a>, <a\\nhref=\"http://legacy.python.org/doc/essays/ppt/\">presentations</a> and <a\\nhref=\"interviews.html\">interviews</a> (all about Python), some\\n<a href=\"pics.html\">pictures of me</a>,\\n<a href=\"http://neopythonic.blogspot.com\">my new blog</a>, and\\nmy <a href=\"http://www.artima.com/weblogs/index.jsp?blogger=12088\">old\\nblog</a> on Artima.com.  I am\\n<a href=https://twitter.com/gvanrossum>@gvanrossum</a> on Twitter.\\n\\n<p>In January 2013 I joined\\n<a href=http://www.dropbox.com>Dropbox</a>.  I work on various Dropbox\\nproducts and have 50% for my Python work, no strings attached.\\nPreviously, I have worked for Google, Elemental Security, Zope\\nCorporation, BeOpen.com, CNRI, CWI, and SARA.  (See\\nmy <a href=Resume.html>resume</a>.)  I created Python while at CWI.\\n\\n<H3>How to Reach Me</H3>\\n\\n<P>You can send email for me to guido (at) python.org.\\nI read everything sent there, but if you ask\\nme a question about using Python, it\\'s likely that I won\\'t have time\\nto answer it, and will instead refer you to\\nhelp (at) python.org,\\n<a href=\"http://groups.google.com/groups?q=comp.lang.python\"\\n>comp.lang.python</a> or\\n<a href=http://stackoverflow.com>StackOverflow</a>.  If you need to\\ntalk to me on the phone or send me something by snail mail, send me an\\nemail and I\\'ll gladly email you instructions on how to reach me.\\n\\n<H3>My Name</H3>\\n\\n<P>My name often poses difficulties for Americans.\\n\\n<P><b>Pronunciation:</b> in Dutch, the \"G\" in Guido is a hard G,\\npronounced roughly like the \"ch\" in Scottish \"loch\".  (Listen to the\\n<A HREF=\"guido.au\">sound clip</A>.)  However, if you\\'re\\nAmerican, you may also pronounce it as the Italian \"Guido\".  I\\'m not\\ntoo worried about the associations with mob assassins that some people\\nhave. :-)\\n\\n<P><b>Spelling:</b> my last name is two words, and I\\'d like to keep it\\nthat way, the spelling on some of my credit cards notwithstanding.\\nDutch spelling rules dictate that when used in combination with my\\nfirst name, \"van\" is not capitalized: \"Guido van Rossum\".  But when my\\nlast name is used alone to refer to me, it is capitalized, for\\nexample: \"As usual, Van Rossum was right.\"\\n\\n<P><b>Alphabetization:</b> in America, I show up in the alphabet under\\n\"V\".  But in Europe, I show up under \"R\".  And some of my friends put\\nme under \"G\" in their address book...\\n\\n\\n<H3>More Hyperlinks</H3>\\n\\n<UL>\\n\\n<LI>Here\\'s a collection of <A HREF =\\n\"http://legacy.python.org/doc/essays/\" >essays</A> relating to Python\\nthat I\\'ve written, including the foreword I wrote for Mark Lutz\\' book\\n\"Programming Python\".<P>\\n\\n<li>I own the official <a href=\"images/license.jpg\"><img align=\"center\"\\nborder=\"0\" width=\"100\" height=\"75\" src=\"images/license_thumb.jpg\">\\nPython license.</a><p>\\n\\n</UL>\\n\\n<H3>The Audio File Formats FAQ</H3>\\n\\n<P>I was the original creator and maintainer of the Audio File Formats\\nFAQ.  It is now maintained by Chris Bagwell\\nat <A HREF=\"http://www.cnpbagwell.com/audio-faq\"\\n>http://www.cnpbagwell.com/audio-faq</A>.  And here is a link to\\n<a href=http://sox.sourceforge.net/>SOX</a>, to which I contributed\\nsome early code.\\n\\n</UL>\\n\\n<HR>\\n\\n<A HREF=\"images/internetdog.gif\">\"On the Internet, nobody knows you\\'re\\na dog.\"</A>\\n\\n<HR>\\n\\n</BODY>\\n'"
      ]
     },
     "execution_count": 7,
     "metadata": {},
     "output_type": "execute_result"
    }
   ],
   "source": [
    "# get all the data from the webpage\n",
    "res.text"
   ]
  },
  {
   "cell_type": "code",
   "execution_count": 10,
   "metadata": {},
   "outputs": [],
   "source": [
    "# convert the object to type beautiful soup\n",
    "soup = bs4.BeautifulSoup(res.text)"
   ]
  },
  {
   "cell_type": "code",
   "execution_count": 11,
   "metadata": {},
   "outputs": [
    {
     "name": "stdout",
     "output_type": "stream",
     "text": [
      "<html>\n",
      "<head>\n",
      "<title>Guido's Personal Home Page</title>\n",
      "</head>\n",
      "<body bgcolor=\"#FFFFFF\" text=\"#000000\">\n",
      "<h1>\n",
      "<a href=\"pics.html\"><img border=\"0\" src=\"images/IMG_2192.jpg\"/></a>\n",
      "Guido van Rossum - Personal Home Page\n",
      "<a href=\"pics.html\"><img border=\"0\" height=\"216\" src=\"images/guido-headshot-2019.jpg\" width=\"270\"/></a>\n",
      "</h1>\n",
      "<p><a href=\"http://www.washingtonpost.com/wp-srv/business/longterm/microsoft/stories/1998/raymond120398.htm\"><i>\"Gawky and proud of it.\"</i></a>\n",
      "</p><h3><a href=\"http://metalab.unc.edu/Dave/Dr-Fun/df200004/df20000406.jpg\">Who\n",
      "I Am</a></h3>\n",
      "<p>Read\n",
      "my <a href=\"http://neopythonic.blogspot.com/2016/04/kings-day-speech.html\">\"King's\n",
      "Day Speech\"</a> for some inspiration.\n",
      "\n",
      "</p><p>I am the author of the <a href=\"http://www.python.org\">Python</a>\n",
      "programming language.  See also my <a href=\"Resume.html\">resume</a>\n",
      "and my <a href=\"Publications.html\">publications list</a>, a <a href=\"bio.html\">brief bio</a>, assorted <a href=\"http://legacy.python.org/doc/essays/\">writings</a>, <a href=\"http://legacy.python.org/doc/essays/ppt/\">presentations</a> and <a href=\"interviews.html\">interviews</a> (all about Python), some\n",
      "<a href=\"pics.html\">pictures of me</a>,\n",
      "<a href=\"http://neopythonic.blogspot.com\">my new blog</a>, and\n",
      "my <a href=\"http://www.artima.com/weblogs/index.jsp?blogger=12088\">old\n",
      "blog</a> on Artima.com.  I am\n",
      "<a href=\"https://twitter.com/gvanrossum\">@gvanrossum</a> on Twitter.\n",
      "\n",
      "</p><p>In January 2013 I joined\n",
      "<a href=\"http://www.dropbox.com\">Dropbox</a>.  I work on various Dropbox\n",
      "products and have 50% for my Python work, no strings attached.\n",
      "Previously, I have worked for Google, Elemental Security, Zope\n",
      "Corporation, BeOpen.com, CNRI, CWI, and SARA.  (See\n",
      "my <a href=\"Resume.html\">resume</a>.)  I created Python while at CWI.\n",
      "\n",
      "</p><h3>How to Reach Me</h3>\n",
      "<p>You can send email for me to guido (at) python.org.\n",
      "I read everything sent there, but if you ask\n",
      "me a question about using Python, it's likely that I won't have time\n",
      "to answer it, and will instead refer you to\n",
      "help (at) python.org,\n",
      "<a href=\"http://groups.google.com/groups?q=comp.lang.python\">comp.lang.python</a> or\n",
      "<a href=\"http://stackoverflow.com\">StackOverflow</a>.  If you need to\n",
      "talk to me on the phone or send me something by snail mail, send me an\n",
      "email and I'll gladly email you instructions on how to reach me.\n",
      "\n",
      "</p><h3>My Name</h3>\n",
      "<p>My name often poses difficulties for Americans.\n",
      "\n",
      "</p><p><b>Pronunciation:</b> in Dutch, the \"G\" in Guido is a hard G,\n",
      "pronounced roughly like the \"ch\" in Scottish \"loch\".  (Listen to the\n",
      "<a href=\"guido.au\">sound clip</a>.)  However, if you're\n",
      "American, you may also pronounce it as the Italian \"Guido\".  I'm not\n",
      "too worried about the associations with mob assassins that some people\n",
      "have. :-)\n",
      "\n",
      "</p><p><b>Spelling:</b> my last name is two words, and I'd like to keep it\n",
      "that way, the spelling on some of my credit cards notwithstanding.\n",
      "Dutch spelling rules dictate that when used in combination with my\n",
      "first name, \"van\" is not capitalized: \"Guido van Rossum\".  But when my\n",
      "last name is used alone to refer to me, it is capitalized, for\n",
      "example: \"As usual, Van Rossum was right.\"\n",
      "\n",
      "</p><p><b>Alphabetization:</b> in America, I show up in the alphabet under\n",
      "\"V\".  But in Europe, I show up under \"R\".  And some of my friends put\n",
      "me under \"G\" in their address book...\n",
      "\n",
      "\n",
      "</p><h3>More Hyperlinks</h3>\n",
      "<ul>\n",
      "<li>Here's a collection of <a href=\"http://legacy.python.org/doc/essays/\">essays</a> relating to Python\n",
      "that I've written, including the foreword I wrote for Mark Lutz' book\n",
      "\"Programming Python\".<p>\n",
      "</p></li><li>I own the official <a href=\"images/license.jpg\"><img align=\"center\" border=\"0\" height=\"75\" src=\"images/license_thumb.jpg\" width=\"100\"/>\n",
      "Python license.</a><p>\n",
      "</p></li></ul>\n",
      "<h3>The Audio File Formats FAQ</h3>\n",
      "<p>I was the original creator and maintainer of the Audio File Formats\n",
      "FAQ.  It is now maintained by Chris Bagwell\n",
      "at <a href=\"http://www.cnpbagwell.com/audio-faq\">http://www.cnpbagwell.com/audio-faq</a>.  And here is a link to\n",
      "<a href=\"http://sox.sourceforge.net/\">SOX</a>, to which I contributed\n",
      "some early code.\n",
      "\n",
      "\n",
      "\n",
      "</p><hr/>\n",
      "<a href=\"images/internetdog.gif\">\"On the Internet, nobody knows you're\n",
      "a dog.\"</a>\n",
      "<hr/>\n",
      "</body>\n",
      "</html>\n"
     ]
    }
   ],
   "source": [
    "print(soup)"
   ]
  },
  {
   "cell_type": "code",
   "execution_count": 12,
   "metadata": {},
   "outputs": [
    {
     "data": {
      "text/plain": [
       "bs4.BeautifulSoup"
      ]
     },
     "execution_count": 12,
     "metadata": {},
     "output_type": "execute_result"
    }
   ],
   "source": [
    "type(soup) #converted to type beautiful soup"
   ]
  },
  {
   "cell_type": "code",
   "execution_count": 13,
   "metadata": {},
   "outputs": [],
   "source": [
    "# extracting the title from the webpage\n",
    "title = soup.select('title')"
   ]
  },
  {
   "cell_type": "code",
   "execution_count": 14,
   "metadata": {},
   "outputs": [
    {
     "name": "stdout",
     "output_type": "stream",
     "text": [
      "[<title>Guido's Personal Home Page</title>]\n"
     ]
    }
   ],
   "source": [
    "print(title)"
   ]
  },
  {
   "cell_type": "code",
   "execution_count": 15,
   "metadata": {},
   "outputs": [
    {
     "data": {
      "text/plain": [
       "<title>Guido's Personal Home Page</title>"
      ]
     },
     "execution_count": 15,
     "metadata": {},
     "output_type": "execute_result"
    }
   ],
   "source": [
    "title[0]"
   ]
  },
  {
   "cell_type": "code",
   "execution_count": 16,
   "metadata": {},
   "outputs": [
    {
     "data": {
      "text/plain": [
       "\"Guido's Personal Home Page\""
      ]
     },
     "execution_count": 16,
     "metadata": {},
     "output_type": "execute_result"
    }
   ],
   "source": [
    "title[0].getText()"
   ]
  }
 ],
 "metadata": {
  "kernelspec": {
   "display_name": "Python 3",
   "language": "python",
   "name": "python3"
  },
  "language_info": {
   "codemirror_mode": {
    "name": "ipython",
    "version": 3
   },
   "file_extension": ".py",
   "mimetype": "text/x-python",
   "name": "python",
   "nbconvert_exporter": "python",
   "pygments_lexer": "ipython3",
   "version": "3.7.3"
  }
 },
 "nbformat": 4,
 "nbformat_minor": 2
}
